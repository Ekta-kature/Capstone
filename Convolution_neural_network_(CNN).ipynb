{
  "nbformat": 4,
  "nbformat_minor": 0,
  "metadata": {
    "colab": {
      "provenance": [],
      "authorship_tag": "ABX9TyOr+Qwh9VKUvUe/m7s9DiKU",
      "include_colab_link": true
    },
    "kernelspec": {
      "name": "python3",
      "display_name": "Python 3"
    },
    "language_info": {
      "name": "python"
    }
  },
  "cells": [
    {
      "cell_type": "markdown",
      "metadata": {
        "id": "view-in-github",
        "colab_type": "text"
      },
      "source": [
        "<a href=\"https://colab.research.google.com/github/Ekta-kature/Capstone/blob/main/Convolution_neural_network_(CNN).ipynb\" target=\"_parent\"><img src=\"https://colab.research.google.com/assets/colab-badge.svg\" alt=\"Open In Colab\"/></a>"
      ]
    },
    {
      "cell_type": "markdown",
      "source": [
        "# **Covolution Neural Network**\n",
        "A Convolutional Neural Network (CNN) is a type of deep learning algorithm specifically designed for processing structured grid data like images. CNNs are widely used in computer vision tasks such as image recognition, object detection, and image segmentation. Here's an overview of how CNNs work:\n",
        "Key Components of CNNs\n",
        "Convolutional Layers:\n",
        "\n",
        "These layers apply a set of filters (also called kernels) to the input image.\n",
        "Each filter slides (convolves) across the input image to produce feature maps.\n",
        "The filters help detect patterns such as edges, textures, and shapes in different parts of the image.\n",
        "The output of a convolutional layer is a set of feature maps.\n",
        "Activation Function:\n",
        "\n",
        "An activation function is applied to the feature maps to introduce non-linearity into the model.\n",
        "The most common activation function used in CNNs is the Rectified Linear Unit (ReLU), defined as\n",
        "𝑓\n",
        "(\n",
        "𝑥\n",
        ")\n",
        "=\n",
        "max\n",
        "⁡\n",
        "(\n",
        "0\n",
        ",\n",
        "𝑥\n",
        ")\n",
        "\n",
        "\n",
        "To understand this topic explicitly lets take an example using MNIST datset, which contains handwritten digits. The primary goal is to classify images of handwritten digits (0-9) correctly. Here's a detailed overview of what this example entails:\n",
        "\n",
        "## **Objective:-**\n",
        "The main objective is to build a neural network model that can recognize handwritten digits from the MNIST dataset with high accuracy. The process involves several steps, including data preprocessing, model definition, training, and evaluation."
      ],
      "metadata": {
        "id": "wLcjwDP0bQk_"
      }
    },
    {
      "cell_type": "markdown",
      "source": [
        "### 1.Install necessary libraries"
      ],
      "metadata": {
        "id": "q4tMnZyydS5t"
      }
    },
    {
      "cell_type": "code",
      "execution_count": null,
      "metadata": {
        "colab": {
          "base_uri": "https://localhost:8080/"
        },
        "id": "n-8sHGP6a02s",
        "outputId": "4ba2292f-ef7a-4f09-c1f9-b7a4d8df0552"
      },
      "outputs": [
        {
          "output_type": "stream",
          "name": "stdout",
          "text": [
            "Collecting torchviz\n",
            "  Downloading torchviz-0.0.2.tar.gz (4.9 kB)\n",
            "  Preparing metadata (setup.py) ... \u001b[?25l\u001b[?25hdone\n",
            "Requirement already satisfied: torch in /usr/local/lib/python3.10/dist-packages (from torchviz) (2.3.1+cu121)\n",
            "Requirement already satisfied: graphviz in /usr/local/lib/python3.10/dist-packages (from torchviz) (0.20.3)\n",
            "Requirement already satisfied: filelock in /usr/local/lib/python3.10/dist-packages (from torch->torchviz) (3.15.4)\n",
            "Requirement already satisfied: typing-extensions>=4.8.0 in /usr/local/lib/python3.10/dist-packages (from torch->torchviz) (4.12.2)\n",
            "Requirement already satisfied: sympy in /usr/local/lib/python3.10/dist-packages (from torch->torchviz) (1.13.0)\n",
            "Requirement already satisfied: networkx in /usr/local/lib/python3.10/dist-packages (from torch->torchviz) (3.3)\n",
            "Requirement already satisfied: jinja2 in /usr/local/lib/python3.10/dist-packages (from torch->torchviz) (3.1.4)\n",
            "Requirement already satisfied: fsspec in /usr/local/lib/python3.10/dist-packages (from torch->torchviz) (2023.6.0)\n",
            "Collecting nvidia-cuda-nvrtc-cu12==12.1.105 (from torch->torchviz)\n",
            "  Using cached nvidia_cuda_nvrtc_cu12-12.1.105-py3-none-manylinux1_x86_64.whl (23.7 MB)\n",
            "Collecting nvidia-cuda-runtime-cu12==12.1.105 (from torch->torchviz)\n",
            "  Using cached nvidia_cuda_runtime_cu12-12.1.105-py3-none-manylinux1_x86_64.whl (823 kB)\n",
            "Collecting nvidia-cuda-cupti-cu12==12.1.105 (from torch->torchviz)\n",
            "  Using cached nvidia_cuda_cupti_cu12-12.1.105-py3-none-manylinux1_x86_64.whl (14.1 MB)\n",
            "Collecting nvidia-cudnn-cu12==8.9.2.26 (from torch->torchviz)\n",
            "  Using cached nvidia_cudnn_cu12-8.9.2.26-py3-none-manylinux1_x86_64.whl (731.7 MB)\n",
            "Collecting nvidia-cublas-cu12==12.1.3.1 (from torch->torchviz)\n",
            "  Using cached nvidia_cublas_cu12-12.1.3.1-py3-none-manylinux1_x86_64.whl (410.6 MB)\n",
            "Collecting nvidia-cufft-cu12==11.0.2.54 (from torch->torchviz)\n",
            "  Using cached nvidia_cufft_cu12-11.0.2.54-py3-none-manylinux1_x86_64.whl (121.6 MB)\n",
            "Collecting nvidia-curand-cu12==10.3.2.106 (from torch->torchviz)\n",
            "  Using cached nvidia_curand_cu12-10.3.2.106-py3-none-manylinux1_x86_64.whl (56.5 MB)\n",
            "Collecting nvidia-cusolver-cu12==11.4.5.107 (from torch->torchviz)\n",
            "  Using cached nvidia_cusolver_cu12-11.4.5.107-py3-none-manylinux1_x86_64.whl (124.2 MB)\n",
            "Collecting nvidia-cusparse-cu12==12.1.0.106 (from torch->torchviz)\n",
            "  Using cached nvidia_cusparse_cu12-12.1.0.106-py3-none-manylinux1_x86_64.whl (196.0 MB)\n",
            "Collecting nvidia-nccl-cu12==2.20.5 (from torch->torchviz)\n",
            "  Using cached nvidia_nccl_cu12-2.20.5-py3-none-manylinux2014_x86_64.whl (176.2 MB)\n",
            "Collecting nvidia-nvtx-cu12==12.1.105 (from torch->torchviz)\n",
            "  Using cached nvidia_nvtx_cu12-12.1.105-py3-none-manylinux1_x86_64.whl (99 kB)\n",
            "Requirement already satisfied: triton==2.3.1 in /usr/local/lib/python3.10/dist-packages (from torch->torchviz) (2.3.1)\n",
            "Collecting nvidia-nvjitlink-cu12 (from nvidia-cusolver-cu12==11.4.5.107->torch->torchviz)\n",
            "  Downloading nvidia_nvjitlink_cu12-12.5.82-py3-none-manylinux2014_x86_64.whl (21.3 MB)\n",
            "\u001b[2K     \u001b[90m━━━━━━━━━━━━━━━━━━━━━━━━━━━━━━━━━━━━━━━━\u001b[0m \u001b[32m21.3/21.3 MB\u001b[0m \u001b[31m62.8 MB/s\u001b[0m eta \u001b[36m0:00:00\u001b[0m\n",
            "\u001b[?25hRequirement already satisfied: MarkupSafe>=2.0 in /usr/local/lib/python3.10/dist-packages (from jinja2->torch->torchviz) (2.1.5)\n",
            "Requirement already satisfied: mpmath<1.4,>=1.1.0 in /usr/local/lib/python3.10/dist-packages (from sympy->torch->torchviz) (1.3.0)\n",
            "Building wheels for collected packages: torchviz\n",
            "  Building wheel for torchviz (setup.py) ... \u001b[?25l\u001b[?25hdone\n",
            "  Created wheel for torchviz: filename=torchviz-0.0.2-py3-none-any.whl size=4132 sha256=feebc96e126acd09fd0b65cb6fe75a652f5bb1fb41c0bdfe17f4556860dc7fc9\n",
            "  Stored in directory: /root/.cache/pip/wheels/4c/97/88/a02973217949e0db0c9f4346d154085f4725f99c4f15a87094\n",
            "Successfully built torchviz\n",
            "Installing collected packages: nvidia-nvtx-cu12, nvidia-nvjitlink-cu12, nvidia-nccl-cu12, nvidia-curand-cu12, nvidia-cufft-cu12, nvidia-cuda-runtime-cu12, nvidia-cuda-nvrtc-cu12, nvidia-cuda-cupti-cu12, nvidia-cublas-cu12, nvidia-cusparse-cu12, nvidia-cudnn-cu12, nvidia-cusolver-cu12, torchviz\n",
            "Successfully installed nvidia-cublas-cu12-12.1.3.1 nvidia-cuda-cupti-cu12-12.1.105 nvidia-cuda-nvrtc-cu12-12.1.105 nvidia-cuda-runtime-cu12-12.1.105 nvidia-cudnn-cu12-8.9.2.26 nvidia-cufft-cu12-11.0.2.54 nvidia-curand-cu12-10.3.2.106 nvidia-cusolver-cu12-11.4.5.107 nvidia-cusparse-cu12-12.1.0.106 nvidia-nccl-cu12-2.20.5 nvidia-nvjitlink-cu12-12.5.82 nvidia-nvtx-cu12-12.1.105 torchviz-0.0.2\n"
          ]
        }
      ],
      "source": [
        "!pip install torchviz"
      ]
    },
    {
      "cell_type": "markdown",
      "source": [
        "### 2. Importing Libraries"
      ],
      "metadata": {
        "id": "YUfudsIXeNeL"
      }
    },
    {
      "cell_type": "markdown",
      "source": [
        "**torch and torch.nn** are PyTorch libraries for building and training neural networks.\n",
        "\n",
        "**torch.optim** provides various optimization algorithms.\n",
        "\n",
        "**torchvision** is used for computer vision tasks, containing datasets, models, and transforms.\n",
        "\n",
        "**transforms** helps in pre-processing and augmenting the data.\n",
        "\n",
        "**DataLoader** is used to load data from a dataset.\n",
        "\n",
        "**torch.nn.functional** contains functions for various operations like activation functions and loss functions.\n",
        "\n",
        "**matplotlib.pyplot and numpy** are used for plotting and numerical operations respectively.\n",
        "\n",
        "**torchviz.make_dot** is used for visualizing the model architecture."
      ],
      "metadata": {
        "id": "xrsfNQR8emLe"
      }
    },
    {
      "cell_type": "code",
      "source": [
        "import torch\n",
        "import torch.nn as nn\n",
        "import torch.optim as optim\n",
        "import torchvision\n",
        "import torchvision.transforms as transforms\n",
        "from torch.utils.data import DataLoader\n",
        "import torch.nn.functional as F  # Add this line\n",
        "import matplotlib.pyplot as plt\n",
        "import numpy as np\n",
        "from torchviz import make_dot"
      ],
      "metadata": {
        "id": "hEg-NiN8eK1O"
      },
      "execution_count": null,
      "outputs": []
    },
    {
      "cell_type": "markdown",
      "source": [
        "### 2.Define Transformations"
      ],
      "metadata": {
        "id": "jmg1S0qSfRdZ"
      }
    },
    {
      "cell_type": "code",
      "source": [
        "# Define transformations for the data\n",
        "transform = transforms.Compose([\n",
        "    transforms.ToTensor(),\n",
        "    transforms.Normalize((0.5,), (0.5,))\n",
        "])"
      ],
      "metadata": {
        "id": "D13pKzhOfcWb"
      },
      "execution_count": null,
      "outputs": []
    },
    {
      "cell_type": "markdown",
      "source": [
        "## 3.Load the Datasets"
      ],
      "metadata": {
        "id": "HPTuWPllfu2U"
      }
    },
    {
      "cell_type": "code",
      "source": [
        "# Load the datasets\n",
        "train_set = torchvision.datasets.MNIST(root='./data', train=True, download=True, transform=transform)\n",
        "test_set = torchvision.datasets.MNIST(root='./data', train=False, download=True, transform=transform)\n",
        "\n",
        "# Create data loaders\n",
        "train_loader = DataLoader(train_set, batch_size=32, shuffle=True)\n",
        "test_loader = DataLoader(test_set, batch_size=32, shuffle=False)"
      ],
      "metadata": {
        "colab": {
          "base_uri": "https://localhost:8080/"
        },
        "id": "wdWNSzuIfzhO",
        "outputId": "3eb9d1f9-2399-4b8a-d609-32e44af0cbbb"
      },
      "execution_count": null,
      "outputs": [
        {
          "output_type": "stream",
          "name": "stdout",
          "text": [
            "Downloading http://yann.lecun.com/exdb/mnist/train-images-idx3-ubyte.gz\n",
            "Failed to download (trying next):\n",
            "HTTP Error 403: Forbidden\n",
            "\n",
            "Downloading https://ossci-datasets.s3.amazonaws.com/mnist/train-images-idx3-ubyte.gz\n",
            "Downloading https://ossci-datasets.s3.amazonaws.com/mnist/train-images-idx3-ubyte.gz to ./data/MNIST/raw/train-images-idx3-ubyte.gz\n"
          ]
        },
        {
          "output_type": "stream",
          "name": "stderr",
          "text": [
            "100%|██████████| 9912422/9912422 [00:01<00:00, 5232999.65it/s]\n"
          ]
        },
        {
          "output_type": "stream",
          "name": "stdout",
          "text": [
            "Extracting ./data/MNIST/raw/train-images-idx3-ubyte.gz to ./data/MNIST/raw\n",
            "\n",
            "Downloading http://yann.lecun.com/exdb/mnist/train-labels-idx1-ubyte.gz\n",
            "Failed to download (trying next):\n",
            "HTTP Error 403: Forbidden\n",
            "\n",
            "Downloading https://ossci-datasets.s3.amazonaws.com/mnist/train-labels-idx1-ubyte.gz\n",
            "Downloading https://ossci-datasets.s3.amazonaws.com/mnist/train-labels-idx1-ubyte.gz to ./data/MNIST/raw/train-labels-idx1-ubyte.gz\n"
          ]
        },
        {
          "output_type": "stream",
          "name": "stderr",
          "text": [
            "100%|██████████| 28881/28881 [00:00<00:00, 157270.68it/s]\n"
          ]
        },
        {
          "output_type": "stream",
          "name": "stdout",
          "text": [
            "Extracting ./data/MNIST/raw/train-labels-idx1-ubyte.gz to ./data/MNIST/raw\n",
            "\n",
            "Downloading http://yann.lecun.com/exdb/mnist/t10k-images-idx3-ubyte.gz\n",
            "Failed to download (trying next):\n",
            "HTTP Error 403: Forbidden\n",
            "\n",
            "Downloading https://ossci-datasets.s3.amazonaws.com/mnist/t10k-images-idx3-ubyte.gz\n",
            "Downloading https://ossci-datasets.s3.amazonaws.com/mnist/t10k-images-idx3-ubyte.gz to ./data/MNIST/raw/t10k-images-idx3-ubyte.gz\n"
          ]
        },
        {
          "output_type": "stream",
          "name": "stderr",
          "text": [
            "100%|██████████| 1648877/1648877 [00:01<00:00, 1486631.16it/s]\n"
          ]
        },
        {
          "output_type": "stream",
          "name": "stdout",
          "text": [
            "Extracting ./data/MNIST/raw/t10k-images-idx3-ubyte.gz to ./data/MNIST/raw\n",
            "\n",
            "Downloading http://yann.lecun.com/exdb/mnist/t10k-labels-idx1-ubyte.gz\n",
            "Failed to download (trying next):\n",
            "HTTP Error 403: Forbidden\n",
            "\n",
            "Downloading https://ossci-datasets.s3.amazonaws.com/mnist/t10k-labels-idx1-ubyte.gz\n",
            "Downloading https://ossci-datasets.s3.amazonaws.com/mnist/t10k-labels-idx1-ubyte.gz to ./data/MNIST/raw/t10k-labels-idx1-ubyte.gz\n"
          ]
        },
        {
          "output_type": "stream",
          "name": "stderr",
          "text": [
            "100%|██████████| 4542/4542 [00:00<00:00, 8902116.25it/s]"
          ]
        },
        {
          "output_type": "stream",
          "name": "stdout",
          "text": [
            "Extracting ./data/MNIST/raw/t10k-labels-idx1-ubyte.gz to ./data/MNIST/raw\n",
            "\n"
          ]
        },
        {
          "output_type": "stream",
          "name": "stderr",
          "text": [
            "\n"
          ]
        }
      ]
    },
    {
      "cell_type": "markdown",
      "source": [
        "## 5.Define the CNN model\n",
        "\n",
        "\n",
        "---\n",
        "\n"
      ],
      "metadata": {
        "id": "0Nwl_GtGf724"
      }
    },
    {
      "cell_type": "code",
      "source": [
        "# Define the CNN model\n",
        "class CNN(nn.Module):\n",
        "    def __init__(self):\n",
        "        super(CNN, self).__init__()\n",
        "        self.conv1 = nn.Conv2d(1, 32, kernel_size=3, padding=1)\n",
        "        self.pool = nn.MaxPool2d(kernel_size=2, stride=2)\n",
        "        self.conv2 = nn.Conv2d(32, 64, kernel_size=3, padding=1)\n",
        "        self.fc1 = nn.Linear(64 * 7 * 7, 128)\n",
        "        self.fc2 = nn.Linear(128, 10)\n",
        "\n",
        "    def forward(self, x):\n",
        "        x = self.pool(F.relu(self.conv1(x)))\n",
        "        x = self.pool(F.relu(self.conv2(x)))\n",
        "        x = x.view(-1, 64 * 7 * 7)\n",
        "        x = F.relu(self.fc1(x))\n",
        "        x = self.fc2(x)\n",
        "        return x"
      ],
      "metadata": {
        "id": "tFVdfM7RgE_0"
      },
      "execution_count": null,
      "outputs": []
    },
    {
      "cell_type": "markdown",
      "source": [
        "## 6. Instantiate Model, Loss Function, and Optimizer"
      ],
      "metadata": {
        "id": "7htC1GcggTJu"
      }
    },
    {
      "cell_type": "code",
      "source": [
        "model = CNN()\n",
        "criterion = nn.CrossEntropyLoss()\n",
        "optimizer = optim.Adam(model.parameters(), lr=0.001)"
      ],
      "metadata": {
        "id": "Q8JYMTUNgcuf"
      },
      "execution_count": null,
      "outputs": []
    },
    {
      "cell_type": "markdown",
      "source": [
        "## 7.Train the model"
      ],
      "metadata": {
        "id": "FpG-0NMlgguW"
      }
    },
    {
      "cell_type": "code",
      "source": [
        "# Train the model\n",
        "for epoch in range(10):  # number of epochs\n",
        "    running_loss = 0.0\n",
        "    for i, data in enumerate(train_loader, 0):\n",
        "        inputs, labels = data\n",
        "\n",
        "        optimizer.zero_grad()\n",
        "        outputs = model(inputs)\n",
        "        loss = criterion(outputs, labels)\n",
        "        loss.backward()\n",
        "        optimizer.step()\n",
        "\n",
        "        running_loss += loss.item()\n",
        "        if i % 200 == 199:  # print every 200 mini-batches\n",
        "            print(f'[Epoch {epoch + 1}, Batch {i + 1}] loss: {running_loss / 200:.3f}')\n",
        "            running_loss = 0.0\n",
        "\n",
        "print('Finished Training')"
      ],
      "metadata": {
        "colab": {
          "base_uri": "https://localhost:8080/"
        },
        "id": "-d_se-ylgk7x",
        "outputId": "4b90023f-5627-4bbf-d849-6f27a7734f3a"
      },
      "execution_count": null,
      "outputs": [
        {
          "output_type": "stream",
          "name": "stdout",
          "text": [
            "[Epoch 1, Batch 200] loss: 0.461\n",
            "[Epoch 1, Batch 400] loss: 0.138\n",
            "[Epoch 1, Batch 600] loss: 0.095\n",
            "[Epoch 1, Batch 800] loss: 0.090\n",
            "[Epoch 1, Batch 1000] loss: 0.081\n",
            "[Epoch 1, Batch 1200] loss: 0.064\n",
            "[Epoch 1, Batch 1400] loss: 0.059\n",
            "[Epoch 1, Batch 1600] loss: 0.062\n",
            "[Epoch 1, Batch 1800] loss: 0.054\n",
            "[Epoch 2, Batch 200] loss: 0.047\n",
            "[Epoch 2, Batch 400] loss: 0.041\n",
            "[Epoch 2, Batch 600] loss: 0.047\n",
            "[Epoch 2, Batch 800] loss: 0.042\n",
            "[Epoch 2, Batch 1000] loss: 0.036\n",
            "[Epoch 2, Batch 1200] loss: 0.038\n",
            "[Epoch 2, Batch 1400] loss: 0.038\n",
            "[Epoch 2, Batch 1600] loss: 0.043\n",
            "[Epoch 2, Batch 1800] loss: 0.038\n",
            "[Epoch 3, Batch 200] loss: 0.023\n",
            "[Epoch 3, Batch 400] loss: 0.019\n",
            "[Epoch 3, Batch 600] loss: 0.034\n",
            "[Epoch 3, Batch 800] loss: 0.024\n",
            "[Epoch 3, Batch 1000] loss: 0.032\n",
            "[Epoch 3, Batch 1200] loss: 0.032\n",
            "[Epoch 3, Batch 1400] loss: 0.030\n",
            "[Epoch 3, Batch 1600] loss: 0.025\n",
            "[Epoch 3, Batch 1800] loss: 0.032\n",
            "[Epoch 4, Batch 200] loss: 0.016\n",
            "[Epoch 4, Batch 400] loss: 0.017\n",
            "[Epoch 4, Batch 600] loss: 0.013\n",
            "[Epoch 4, Batch 800] loss: 0.021\n",
            "[Epoch 4, Batch 1000] loss: 0.030\n",
            "[Epoch 4, Batch 1200] loss: 0.018\n",
            "[Epoch 4, Batch 1400] loss: 0.019\n",
            "[Epoch 4, Batch 1600] loss: 0.023\n",
            "[Epoch 4, Batch 1800] loss: 0.026\n",
            "[Epoch 5, Batch 200] loss: 0.012\n",
            "[Epoch 5, Batch 400] loss: 0.013\n",
            "[Epoch 5, Batch 600] loss: 0.014\n",
            "[Epoch 5, Batch 800] loss: 0.012\n",
            "[Epoch 5, Batch 1000] loss: 0.016\n",
            "[Epoch 5, Batch 1200] loss: 0.018\n",
            "[Epoch 5, Batch 1400] loss: 0.017\n",
            "[Epoch 5, Batch 1600] loss: 0.021\n",
            "[Epoch 5, Batch 1800] loss: 0.020\n",
            "[Epoch 6, Batch 200] loss: 0.011\n",
            "[Epoch 6, Batch 400] loss: 0.009\n",
            "[Epoch 6, Batch 600] loss: 0.008\n",
            "[Epoch 6, Batch 800] loss: 0.008\n",
            "[Epoch 6, Batch 1000] loss: 0.012\n",
            "[Epoch 6, Batch 1200] loss: 0.017\n",
            "[Epoch 6, Batch 1400] loss: 0.012\n",
            "[Epoch 6, Batch 1600] loss: 0.017\n",
            "[Epoch 6, Batch 1800] loss: 0.010\n",
            "[Epoch 7, Batch 200] loss: 0.008\n",
            "[Epoch 7, Batch 400] loss: 0.011\n",
            "[Epoch 7, Batch 600] loss: 0.015\n",
            "[Epoch 7, Batch 800] loss: 0.012\n",
            "[Epoch 7, Batch 1000] loss: 0.011\n",
            "[Epoch 7, Batch 1200] loss: 0.012\n",
            "[Epoch 7, Batch 1400] loss: 0.010\n",
            "[Epoch 7, Batch 1600] loss: 0.009\n",
            "[Epoch 7, Batch 1800] loss: 0.006\n",
            "[Epoch 8, Batch 200] loss: 0.005\n",
            "[Epoch 8, Batch 400] loss: 0.005\n",
            "[Epoch 8, Batch 600] loss: 0.008\n",
            "[Epoch 8, Batch 800] loss: 0.010\n",
            "[Epoch 8, Batch 1000] loss: 0.008\n",
            "[Epoch 8, Batch 1200] loss: 0.010\n",
            "[Epoch 8, Batch 1400] loss: 0.005\n",
            "[Epoch 8, Batch 1600] loss: 0.008\n",
            "[Epoch 8, Batch 1800] loss: 0.014\n",
            "[Epoch 9, Batch 200] loss: 0.005\n",
            "[Epoch 9, Batch 400] loss: 0.012\n",
            "[Epoch 9, Batch 600] loss: 0.007\n",
            "[Epoch 9, Batch 800] loss: 0.003\n",
            "[Epoch 9, Batch 1000] loss: 0.013\n",
            "[Epoch 9, Batch 1200] loss: 0.010\n",
            "[Epoch 9, Batch 1400] loss: 0.011\n",
            "[Epoch 9, Batch 1600] loss: 0.007\n",
            "[Epoch 9, Batch 1800] loss: 0.009\n",
            "[Epoch 10, Batch 200] loss: 0.003\n",
            "[Epoch 10, Batch 400] loss: 0.004\n",
            "[Epoch 10, Batch 600] loss: 0.007\n",
            "[Epoch 10, Batch 800] loss: 0.010\n",
            "[Epoch 10, Batch 1000] loss: 0.007\n",
            "[Epoch 10, Batch 1200] loss: 0.005\n",
            "[Epoch 10, Batch 1400] loss: 0.005\n",
            "[Epoch 10, Batch 1600] loss: 0.005\n",
            "[Epoch 10, Batch 1800] loss: 0.014\n",
            "Finished Training\n"
          ]
        }
      ]
    },
    {
      "cell_type": "markdown",
      "source": [
        "## 8.Evaluate the Model"
      ],
      "metadata": {
        "id": "Le_u2KXHiFZ-"
      }
    },
    {
      "cell_type": "code",
      "source": [
        "correct = 0\n",
        "total = 0\n",
        "with torch.no_grad():\n",
        "    for data in test_loader:\n",
        "        images, labels = data\n",
        "        outputs = model(images)\n",
        "        _, predicted = torch.max(outputs.data, 1)\n",
        "        total += labels.size(0)\n",
        "        correct += (predicted == labels).sum().item()\n",
        "\n",
        "print(f'Accuracy of the network on the 10000 test images: {100 * correct / total:.2f}%')\n"
      ],
      "metadata": {
        "colab": {
          "base_uri": "https://localhost:8080/"
        },
        "id": "vyeK2G33iTzY",
        "outputId": "1fbe6ea5-1442-4ef7-a6d6-0afefe1b1fcb"
      },
      "execution_count": null,
      "outputs": [
        {
          "output_type": "stream",
          "name": "stdout",
          "text": [
            "Accuracy of the network on the 10000 test images: 99.24%\n"
          ]
        }
      ]
    },
    {
      "cell_type": "markdown",
      "source": [
        "## 9.Visualization"
      ],
      "metadata": {
        "id": "xtq38qv5iYQ_"
      }
    },
    {
      "cell_type": "code",
      "source": [
        "# Function to show an image\n",
        "def imshow(img):\n",
        "    img = img / 2 + 0.5  # unnormalize\n",
        "    npimg = img.numpy()\n",
        "    plt.imshow(np.transpose(npimg, (1, 2, 0)))\n",
        "    plt.show()\n",
        "\n",
        "# Get some random training images\n",
        "dataiter = iter(train_loader)\n",
        "images, labels = next(dataiter)\n",
        "\n",
        "# Show images\n",
        "imshow(torchvision.utils.make_grid(images))\n",
        "# Print labels\n",
        "print(' '.join(f'{labels[j]}' for j in range(4)))\n",
        "\n",
        "# Visualize the model architecture\n",
        "sample_input = torch.randn(1, 1, 28, 28)\n",
        "output = model(sample_input)\n",
        "dot = make_dot(output, params=dict(model.named_parameters()))\n",
        "dot.render(\"cnn_model\", format=\"png\")\n"
      ],
      "metadata": {
        "colab": {
          "base_uri": "https://localhost:8080/",
          "height": 352
        },
        "id": "CyJ-921mipPB",
        "outputId": "fa281441-2a70-47b9-f2cc-eb578190110b"
      },
      "execution_count": null,
      "outputs": [
        {
          "output_type": "display_data",
          "data": {
            "text/plain": [
              "<Figure size 640x480 with 1 Axes>"
            ],
            "image/png": "[encoded data removed]"
          },
          "metadata": {}
        },
        {
          "output_type": "stream",
          "name": "stdout",
          "text": [
            "4 9 9 7\n"
          ]
        },
        {
          "output_type": "execute_result",
          "data": {
            "text/plain": [
              "'cnn_model.png'"
            ],
            "application/vnd.google.colaboratory.intrinsic+json": {
              "type": "string"
            }
          },
          "metadata": {},
          "execution_count": 9
        }
      ]
    }
  ]
}